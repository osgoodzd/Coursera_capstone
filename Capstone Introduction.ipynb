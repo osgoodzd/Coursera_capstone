{
 "cells": [
  {
   "cell_type": "markdown",
   "metadata": {},
   "source": [
    "# COVID'S IMPACT ON NORTHERN VA TRAFFIC ACCIDENTS"
   ]
  },
  {
   "cell_type": "markdown",
   "metadata": {},
   "source": [
    "## INTRODUCTION\n",
    "In the early months of 2020, telecommute and stay-at-home restrictions were quickly implemented throughout the Northern VA region in response to COVID.With the Northern VA region having some of the worst commuting conditions in the country you'd be hard pressed to find anyone who misses the traffic, yet how have the changes in conditions affected accidents? The following report addresses this question by comparing traffic accident data of 2019 (pre-COVID conditions) to traffic accident data of 2020 (COVID conditions). \n"
   ]
  },
  {
   "cell_type": "markdown",
   "metadata": {},
   "source": [
    "## DATA DESCRIPTION\n",
    "To solve the question of COVID's impact on traffic accidents I'll be using a dataset collected by Lyft Research Scientist, Sobhan Moosavi.This data has been continuously collected from February 2016, using several data providers, including two APIs which provide streaming traffic event data. The APIs broadcast traffic events captured by a variety of entities, such as the US and state departments of transportation, law enforcement agencies, traffic cameras, and traffic sensors within the road-networks. The dataset consist of roughly 4.2 million accidents recorded across 49 states. I'll be making multiple comparisons between the data collected in 2019 and 2020 including; Total number of accidents, severity of accidents,influence of weather conditions on accidents, types of roadways accidents occurred on, and time of day accidents occurred. "
   ]
  },
  {
   "cell_type": "code",
   "execution_count": null,
   "metadata": {},
   "outputs": [],
   "source": []
  }
 ],
 "metadata": {
  "kernelspec": {
   "display_name": "Python 3",
   "language": "python",
   "name": "python3"
  },
  "language_info": {
   "codemirror_mode": {
    "name": "ipython",
    "version": 3
   },
   "file_extension": ".py",
   "mimetype": "text/x-python",
   "name": "python",
   "nbconvert_exporter": "python",
   "pygments_lexer": "ipython3",
   "version": "3.8.5"
  }
 },
 "nbformat": 4,
 "nbformat_minor": 4
}
