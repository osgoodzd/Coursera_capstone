{
 "cells": [
  {
   "cell_type": "markdown",
   "metadata": {},
   "source": [
    "# COVID'S IMPACT ON NORTHERN VA TRAFFIC ACCIDENTS"
   ]
  },
  {
   "cell_type": "markdown",
   "metadata": {},
   "source": [
    "## INTRODUCTION\n",
    "In the early months of 2020, telecommute and stay-at-home restrictions were quickly implemented throughout the Northern VA region in response to COVID. With the Northern VA region having some of the worst commuting conditions in the country, many have enjoyed the ability to telecommute, yet how have the changes in conditions affected accidents? The following report addresses this question by comparing traffic accident data of 2019 (pre-COVID conditions) to traffic accident data of 2020 (COVID conditions). \n",
    "\n",
    "The target audience of this report consist of government officials and Corporate leaders in the Northern VA region who could use the data to determine the predicted change in traffic accidents as employees return to work once COVID ends. \n"
   ]
  },
  {
   "cell_type": "markdown",
   "metadata": {},
   "source": [
    "## DATA DESCRIPTION\n",
    "To solve the question of COVID's impact on traffic accidents, I'll be using a dataset collected by Lyft Research Scientist, Sobhan Moosavi. This data has been continuously collected since February 2016, using several data providers, including two APIs which provide streaming traffic event data. The APIs broadcast traffic events captured by a variety of entities, such as the US and state departments of transportation, law enforcement agencies, traffic cameras, and traffic sensors within the road-networks. The dataset consist of roughly 4.2 million accidents recorded across 49 states. \n",
    "\n",
    "**Examples of how this data will be used:**\n",
    "\n",
    "I'll be making multiple comparisons between the data collected in 2019 and 2020 including:\n",
    " - Total number of accidents\n",
    " - Severity of accidents\n",
    " - Influence of weather conditions on accidents\n",
    " - Types of roadways accidents occurred on\n",
    " - Time of day accidents occurred\n",
    " - Popular venues near sites of accidents (i.e. grocery stores)"
   ]
  },
  {
   "cell_type": "code",
   "execution_count": null,
   "metadata": {},
   "outputs": [],
   "source": []
  }
 ],
 "metadata": {
  "kernelspec": {
   "display_name": "Python 3",
   "language": "python",
   "name": "python3"
  },
  "language_info": {
   "codemirror_mode": {
    "name": "ipython",
    "version": 3
   },
   "file_extension": ".py",
   "mimetype": "text/x-python",
   "name": "python",
   "nbconvert_exporter": "python",
   "pygments_lexer": "ipython3",
   "version": "3.8.5"
  }
 },
 "nbformat": 4,
 "nbformat_minor": 4
}
